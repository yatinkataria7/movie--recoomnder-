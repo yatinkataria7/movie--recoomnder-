{
 "cells": [
  {
   "cell_type": "markdown",
   "id": "cc024b4b",
   "metadata": {},
   "source": [
    "# 🎬 Movie Recommender System using Content-Based Filtering"
   ]
  },
  {
   "cell_type": "code",
   "execution_count": null,
   "id": "d09a07fc",
   "metadata": {},
   "outputs": [],
   "source": [
    "import pandas as pd\n",
    "from sklearn.feature_extraction.text import CountVectorizer\n",
    "from sklearn.metrics.pairwise import cosine_similarity"
   ]
  },
  {
   "cell_type": "markdown",
   "id": "a71a1165",
   "metadata": {},
   "source": [
    "## 📥 Load and Explore the Dataset"
   ]
  },
  {
   "cell_type": "code",
   "execution_count": null,
   "id": "6c196425",
   "metadata": {},
   "outputs": [],
   "source": [
    "movies = pd.read_csv(\"movies_cleaned.csv\")\n",
    "movies.head()"
   ]
  },
  {
   "cell_type": "markdown",
   "id": "bad4ed83",
   "metadata": {},
   "source": [
    "## 📊 Exploratory Data Analysis (EDA)"
   ]
  },
  {
   "cell_type": "code",
   "execution_count": null,
   "id": "472860bc",
   "metadata": {},
   "outputs": [],
   "source": [
    "import seaborn as sns\n",
    "import matplotlib.pyplot as plt\n",
    "import ast\n",
    "raw_movies = pd.read_csv(\"tmdb_5000_movies.csv\")\n",
    "raw_movies['release_date'] = pd.to_datetime(raw_movies['release_date'], errors='coerce')\n",
    "raw_movies['year'] = raw_movies['release_date'].dt.year\n",
    "# Top genres\n",
    "genres_list = [g['name'] for sublist in raw_movies['genres'].dropna().apply(ast.literal_eval) for g in sublist]\n",
    "top_genres = pd.Series(genres_list).value_counts().head(10)\n",
    "sns.barplot(x=top_genres.values, y=top_genres.index)\n",
    "plt.title('Top 10 Genres')\n",
    "plt.xlabel('Number of Movies')\n",
    "plt.show()"
   ]
  },
  {
   "cell_type": "code",
   "execution_count": null,
   "id": "65d79d9a",
   "metadata": {},
   "outputs": [],
   "source": [
    "# Movies released per year\n",
    "yearly_counts = raw_movies['year'].value_counts().sort_index()\n",
    "sns.lineplot(x=yearly_counts.index, y=yearly_counts.values)\n",
    "plt.title('Number of Movies Released per Year')\n",
    "plt.xlabel('Year')\n",
    "plt.ylabel('Number of Movies')\n",
    "plt.grid(True)\n",
    "plt.show()"
   ]
  },
  {
   "cell_type": "markdown",
   "id": "3b74f439",
   "metadata": {},
   "source": [
    "## 🔍 Vectorization using CountVectorizer"
   ]
  },
  {
   "cell_type": "code",
   "execution_count": null,
   "id": "a6e37643",
   "metadata": {},
   "outputs": [],
   "source": [
    "cv = CountVectorizer(max_features=3000, stop_words='english')\n",
    "vectors = cv.fit_transform(movies['tags'])"
   ]
  },
  {
   "cell_type": "markdown",
   "id": "055c3621",
   "metadata": {},
   "source": [
    "## 🧠 Recommendation Function"
   ]
  },
  {
   "cell_type": "code",
   "execution_count": null,
   "id": "09cc7b71",
   "metadata": {},
   "outputs": [],
   "source": [
    "def recommend(movie):\n",
    "    movie = movie.lower()\n",
    "    if movie not in movies['title'].str.lower().values:\n",
    "        return [\"Movie not found.\"]\n",
    "    idx = movies[movies['title'].str.lower() == movie].index[0]\n",
    "    vec = vectors[idx]\n",
    "    sim = cosine_similarity(vec, vectors).flatten()\n",
    "    sim_scores = list(enumerate(sim))\n",
    "    sim_scores = sorted(sim_scores, key=lambda x: x[1], reverse=True)[1:6]\n",
    "    return [movies.iloc[i[0]].title for i in sim_scores]"
   ]
  },
  {
   "cell_type": "markdown",
   "id": "794ff98d",
   "metadata": {},
   "source": [
    "## 🎯 Test the System"
   ]
  },
  {
   "cell_type": "code",
   "execution_count": null,
   "id": "bac64caa",
   "metadata": {},
   "outputs": [],
   "source": [
    "recommend(\"Avatar\")"
   ]
  },
  {
   "cell_type": "markdown",
   "id": "67431869",
   "metadata": {},
   "source": [
    "## ⚠️ Limitations & Future Improvements\n",
    "- This is a **content-based system** only. It doesn’t consider user preferences.\n",
    "- It doesn’t handle cold-start problems for new movies without metadata.\n",
    "- A future upgrade can include collaborative filtering or hybrid approaches using user ratings.\n",
    "- Popularity and ratings can be used to sort recommendations for better user satisfaction."
   ]
  }
 ],
 "metadata": {},
 "nbformat": 4,
 "nbformat_minor": 5
}
